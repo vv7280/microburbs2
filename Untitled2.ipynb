{
 "cells": [
  {
   "cell_type": "code",
   "execution_count": 5,
   "id": "93ebb594",
   "metadata": {},
   "outputs": [
    {
     "name": "stdout",
     "output_type": "stream",
     "text": [
      "Requirement already satisfied: folium in c:\\users\\vaishnavi\\anaconda3\\lib\\site-packages (0.17.0)\n",
      "Requirement already satisfied: pandas in c:\\users\\vaishnavi\\anaconda3\\lib\\site-packages (1.5.3)\n",
      "Requirement already satisfied: branca>=0.6.0 in c:\\users\\vaishnavi\\anaconda3\\lib\\site-packages (from folium) (0.7.2)\n",
      "Requirement already satisfied: jinja2>=2.9 in c:\\users\\vaishnavi\\anaconda3\\lib\\site-packages (from folium) (3.1.2)\n",
      "Requirement already satisfied: numpy in c:\\users\\vaishnavi\\anaconda3\\lib\\site-packages (from folium) (1.24.3)\n",
      "Requirement already satisfied: requests in c:\\users\\vaishnavi\\anaconda3\\lib\\site-packages (from folium) (2.29.0)\n",
      "Requirement already satisfied: xyzservices in c:\\users\\vaishnavi\\anaconda3\\lib\\site-packages (from folium) (2022.9.0)\n",
      "Requirement already satisfied: python-dateutil>=2.8.1 in c:\\users\\vaishnavi\\anaconda3\\lib\\site-packages (from pandas) (2.8.2)\n",
      "Requirement already satisfied: pytz>=2020.1 in c:\\users\\vaishnavi\\anaconda3\\lib\\site-packages (from pandas) (2022.7)\n",
      "Requirement already satisfied: MarkupSafe>=2.0 in c:\\users\\vaishnavi\\anaconda3\\lib\\site-packages (from jinja2>=2.9->folium) (2.1.1)\n",
      "Requirement already satisfied: six>=1.5 in c:\\users\\vaishnavi\\anaconda3\\lib\\site-packages (from python-dateutil>=2.8.1->pandas) (1.16.0)\n",
      "Requirement already satisfied: charset-normalizer<4,>=2 in c:\\users\\vaishnavi\\anaconda3\\lib\\site-packages (from requests->folium) (2.0.4)\n",
      "Requirement already satisfied: idna<4,>=2.5 in c:\\users\\vaishnavi\\anaconda3\\lib\\site-packages (from requests->folium) (3.4)\n",
      "Requirement already satisfied: urllib3<1.27,>=1.21.1 in c:\\users\\vaishnavi\\anaconda3\\lib\\site-packages (from requests->folium) (1.26.16)\n",
      "Requirement already satisfied: certifi>=2017.4.17 in c:\\users\\vaishnavi\\anaconda3\\lib\\site-packages (from requests->folium) (2024.2.2)\n",
      "Map has been created and saved as 'melbourne_real_estate_map.html'.\n"
     ]
    }
   ],
   "source": [
    "\n",
    "# Installing required libraries\n",
    "!pip install folium pandas\n",
    "\n",
    "import folium\n",
    "import pandas as pd\n",
    "\n",
    "# Defining a DataFrame containing selected locations and their distances\n",
    "data = pd.DataFrame({\n",
    "    \"Location\": [\"North Melbourne\", \"Southbank\", \"Docklands\"],\n",
    "    \"Distance\": [1.8, 3.0, 3.9]  # Distances to Melbourne CBD\n",
    "})\n",
    "\n",
    "# Defining map center coordinates\n",
    "latitude = -37.8136\n",
    "longitude = 144.9631\n",
    "\n",
    "# Creating a base map\n",
    "m = folium.Map(location=[latitude, longitude], zoom_start=13)\n",
    "\n",
    "# Adding markers for each location with a popup that displays the distance\n",
    "for i, row in data.iterrows():\n",
    "    location = row[\"Location\"]\n",
    "    distance = row[\"Distance\"]\n",
    "    popup = folium.Popup(f\"{location}: Distance to Melbourne CBD: {distance} km\")\n",
    "    folium.Marker(\n",
    "        location=[latitude + 0.01 * i, longitude - 0.01 * i],\n",
    "        popup=popup\n",
    "    ).add_to(m)\n",
    "\n",
    "\n",
    "# Save the map\n",
    "map_path = 'melbourne_real_estate_map.html'\n",
    "m.save(map_path)\n",
    "\n",
    "print(\"Map has been created and saved as 'melbourne_real_estate_map.html'.\")\n"
   ]
  },
  {
   "cell_type": "code",
   "execution_count": null,
   "id": "184f510d",
   "metadata": {},
   "outputs": [],
   "source": []
  }
 ],
 "metadata": {
  "kernelspec": {
   "display_name": "Python 3 (ipykernel)",
   "language": "python",
   "name": "python3"
  },
  "language_info": {
   "codemirror_mode": {
    "name": "ipython",
    "version": 3
   },
   "file_extension": ".py",
   "mimetype": "text/x-python",
   "name": "python",
   "nbconvert_exporter": "python",
   "pygments_lexer": "ipython3",
   "version": "3.11.5"
  }
 },
 "nbformat": 4,
 "nbformat_minor": 5
}
